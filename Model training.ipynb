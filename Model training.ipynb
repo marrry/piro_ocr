{
 "cells": [
  {
   "cell_type": "code",
   "execution_count": 92,
   "metadata": {},
   "outputs": [],
   "source": [
    "from keras.models import Sequential\n",
    "from keras.layers import Dense, Dropout, Activation, Flatten\n",
    "from keras.layers import Convolution2D, MaxPooling2D\n",
    "from keras.utils import np_utils\n",
    "import matplotlib.pyplot as plt\n",
    "import os\n",
    "import random\n",
    "import numpy as np\n",
    "import cv2\n",
    "from glob import glob\n",
    "import re\n",
    "\n",
    "#global declarations\n",
    "img_size = 28\n",
    "input_shape = (img_size, img_size, 1)"
   ]
  },
  {
   "cell_type": "code",
   "execution_count": 93,
   "metadata": {},
   "outputs": [
    {
     "name": "stdout",
     "output_type": "stream",
     "text": [
      "_________________________________________________________________\n",
      "Layer (type)                 Output Shape              Param #   \n",
      "=================================================================\n",
      "conv2d_13 (Conv2D)           (None, 26, 26, 32)        320       \n",
      "_________________________________________________________________\n",
      "conv2d_14 (Conv2D)           (None, 24, 24, 32)        9248      \n",
      "_________________________________________________________________\n",
      "max_pooling2d_7 (MaxPooling2 (None, 12, 12, 32)        0         \n",
      "_________________________________________________________________\n",
      "dropout_13 (Dropout)         (None, 12, 12, 32)        0         \n",
      "_________________________________________________________________\n",
      "flatten_7 (Flatten)          (None, 4608)              0         \n",
      "_________________________________________________________________\n",
      "dense_13 (Dense)             (None, 128)               589952    \n",
      "_________________________________________________________________\n",
      "dropout_14 (Dropout)         (None, 128)               0         \n",
      "_________________________________________________________________\n",
      "dense_14 (Dense)             (None, 10)                1290      \n",
      "=================================================================\n",
      "Total params: 600,810\n",
      "Trainable params: 600,810\n",
      "Non-trainable params: 0\n",
      "_________________________________________________________________\n",
      "None\n"
     ]
    },
    {
     "data": {
      "text/plain": [
       "<keras.engine.sequential.Sequential at 0x25374cd3978>"
      ]
     },
     "execution_count": 93,
     "metadata": {},
     "output_type": "execute_result"
    }
   ],
   "source": [
    "def create_model():\n",
    "    model = Sequential()\n",
    "    model.add(Convolution2D(filters=32, kernel_size=(3, 3), strides=(1, 1), activation='relu', input_shape=input_shape))\n",
    "    model.add(Convolution2D(filters=32, kernel_size=(3, 3), strides=(1, 1), activation='relu'))\n",
    "    model.add(MaxPooling2D(pool_size=(2, 2)))\n",
    "    model.add(Dropout(0.25))\n",
    "    model.add(Flatten())\n",
    "    model.add(Dense(128, activation='relu'))\n",
    "    model.add(Dropout(0.5))\n",
    "    model.add(Dense(num_classes, activation='softmax'))\n",
    "    model.compile(loss='categorical_crossentropy', optimizer='adam', metrics=['accuracy'])\n",
    "    print(model.summary())\n",
    "    return model\n",
    "create_model()"
   ]
  },
  {
   "cell_type": "code",
   "execution_count": 94,
   "metadata": {},
   "outputs": [],
   "source": [
    "def prepare_dataset(training_dir):\n",
    "    viable_num=[str(n) for n in list(range(10))]\n",
    "    files = glob(training_dir+'*.png')\n",
    "    files = [f for f in files if f[8] in viable_num]\n",
    "    random.shuffle(files)\n",
    "    \n",
    "    samples = []\n",
    "    for f in files:\n",
    "        label = f[8]\n",
    "        \n",
    "        src = cv2.imread(f, cv2.IMREAD_COLOR)\n",
    "        if len(src.shape) != 2:\n",
    "            gray = cv2.cvtColor(src, cv2.COLOR_BGR2GRAY)\n",
    "        else:\n",
    "            gray = src\n",
    "            \n",
    "        _ , threshold = cv2.threshold(gray, 0, 255, cv2.THRESH_OTSU + cv2.THRESH_BINARY)\n",
    "        threshold = cv2.bitwise_not(threshold)\n",
    "        threshold = cv2.morphologyEx(threshold, cv2.MORPH_CLOSE, np.ones((3,3)))\n",
    "        \n",
    "        samples.append((threshold, label))\n",
    "       \n",
    "    training_data = [i[0] for i in samples]\n",
    "    training_data = np.asarray(training_data).astype('float32')\n",
    "    training_data = np.expand_dims(training_data, axis=3)\n",
    "    training_data /= 255\n",
    "    training_labels = [i[1] for i in samples]\n",
    "    training_labels = np.asarray(training_labels)\n",
    "    training_labels = np_utils.to_categorical(training_labels, 10)\n",
    "    return (training_data, training_labels)"
   ]
  },
  {
   "cell_type": "code",
   "execution_count": 96,
   "metadata": {},
   "outputs": [
    {
     "name": "stdout",
     "output_type": "stream",
     "text": [
      "_________________________________________________________________\n",
      "Layer (type)                 Output Shape              Param #   \n",
      "=================================================================\n",
      "conv2d_17 (Conv2D)           (None, 26, 26, 32)        320       \n",
      "_________________________________________________________________\n",
      "conv2d_18 (Conv2D)           (None, 24, 24, 32)        9248      \n",
      "_________________________________________________________________\n",
      "max_pooling2d_9 (MaxPooling2 (None, 12, 12, 32)        0         \n",
      "_________________________________________________________________\n",
      "dropout_17 (Dropout)         (None, 12, 12, 32)        0         \n",
      "_________________________________________________________________\n",
      "flatten_9 (Flatten)          (None, 4608)              0         \n",
      "_________________________________________________________________\n",
      "dense_17 (Dense)             (None, 128)               589952    \n",
      "_________________________________________________________________\n",
      "dropout_18 (Dropout)         (None, 128)               0         \n",
      "_________________________________________________________________\n",
      "dense_18 (Dense)             (None, 10)                1290      \n",
      "=================================================================\n",
      "Total params: 600,810\n",
      "Trainable params: 600,810\n",
      "Non-trainable params: 0\n",
      "_________________________________________________________________\n",
      "None\n",
      "Model created\n",
      "Dataset created\n",
      "Epoch 1/5\n",
      "12197/12197 [==============================] - 43s 4ms/step - loss: 0.5721 - acc: 0.8227\n",
      "Epoch 2/5\n",
      "12197/12197 [==============================] - 43s 3ms/step - loss: 0.1948 - acc: 0.9423\n",
      "Epoch 3/5\n",
      "12197/12197 [==============================] - 42s 3ms/step - loss: 0.1233 - acc: 0.9613\n",
      "Epoch 4/5\n",
      "12197/12197 [==============================] - 42s 3ms/step - loss: 0.0962 - acc: 0.9707\n",
      "Epoch 5/5\n",
      "12197/12197 [==============================] - 41s 3ms/step - loss: 0.0737 - acc: 0.9763\n",
      "Model trained\n",
      "Model saved\n"
     ]
    }
   ],
   "source": [
    "def train_classifier():\n",
    "    model = create_model()\n",
    "    print('Model created')\n",
    "    training_data, training_labels = prepare_dataset('symbols/')\n",
    "    print('Dataset created')\n",
    "    model.fit(training_data, training_labels, batch_size=64, epochs=5, verbose=1)\n",
    "    print('Model trained')\n",
    "    model.save('kares_model.mod')\n",
    "    print('Model saved')\n",
    "    \n",
    "train_classifier()"
   ]
  }
 ],
 "metadata": {
  "kernelspec": {
   "display_name": "Python 3",
   "language": "python",
   "name": "python3"
  },
  "language_info": {
   "codemirror_mode": {
    "name": "ipython",
    "version": 3
   },
   "file_extension": ".py",
   "mimetype": "text/x-python",
   "name": "python",
   "nbconvert_exporter": "python",
   "pygments_lexer": "ipython3",
   "version": "3.7.1"
  }
 },
 "nbformat": 4,
 "nbformat_minor": 2
}
